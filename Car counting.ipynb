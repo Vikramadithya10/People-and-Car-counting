{
 "cells": [
  {
   "cell_type": "code",
   "execution_count": 1,
   "metadata": {},
   "outputs": [],
   "source": [
    "import cv2\n",
    "import matplotlib.pyplot as plt\n",
    "import cvlib as cv\n",
    "from cvlib.object_detection import draw_bbox"
   ]
  },
  {
   "cell_type": "code",
   "execution_count": 2,
   "metadata": {},
   "outputs": [],
   "source": [
    "import numpy as np\n",
    "import tensorflow as tf\n",
    "import pafy\n",
    "\n",
    "#from IPython.core.display import display, HTML\n",
    "#display(HTML(\"<style>.container { width:100% !important; }</style>\"))"
   ]
  },
  {
   "cell_type": "code",
   "execution_count": 3,
   "metadata": {},
   "outputs": [],
   "source": [
    "def youtube_stream (url):\n",
    "     \n",
    "    video = pafy.new(url)\n",
    "    print('Opening YouTube stream... ')\n",
    "    print('\\n')\n",
    "    print('Title: ', video.title)\n",
    "    best = video.getbest()\n",
    "    print('Resolution: ', best.resolution)\n",
    "    print('Extension: ', best.extension)\n",
    "    #video.getbest().download()\n",
    "    return best.url"
   ]
  },
  {
   "cell_type": "code",
   "execution_count": 4,
   "metadata": {},
   "outputs": [
    {
     "name": "stdout",
     "output_type": "stream",
     "text": [
      "Opening YouTube stream... \n",
      "\n",
      "\n",
      "Title:  Village of Tilton - Traffic Camera 2021-05-24 20:06\n",
      "Resolution:  1280x720\n",
      "Extension:  mp4\n"
     ]
    }
   ],
   "source": [
    "## Streaming\n",
    "inputt = youtube_stream('https://www.youtube.com/watch?v=5_XSYlAfJZM')\n",
    "\n",
    "## Video\n",
    "#inputt = youtube_stream('https://www.youtube.com/watch?v=-2RCPpdmSVg')"
   ]
  },
  {
   "cell_type": "code",
   "execution_count": 5,
   "metadata": {},
   "outputs": [
    {
     "name": "stdout",
     "output_type": "stream",
     "text": [
      "Input loaded successfully!\n"
     ]
    }
   ],
   "source": [
    "cap = cv2.VideoCapture(inputt)\n",
    "\n",
    "# Check if camera opened successfully\n",
    "if (cap.isOpened()== False):\n",
    "    print(\"Error opening video stream or file\")\n",
    "else:\n",
    "    print('Input loaded successfully!')\n",
    "\n",
    "# Getting frame dimensions for the output file    \n",
    "r, img = cap.read()\n",
    "fshape = img.shape\n",
    "fheight = fshape[0]\n",
    "fwidth = fshape[1]\n",
    "\n",
    "# Defining the codec and create VideoWriter object.\n",
    "fourcc = cv2.VideoWriter_fourcc(*'MJPG')\n",
    "\n",
    "# Definining the Output file\n",
    "out = cv2.VideoWriter(\"output.avi\",fourcc, 60.0, (fwidth,fheight))\n",
    "\n",
    "# Executing detection on each frame and displaying processed frames\n",
    "while True:\n",
    "    r, img = cap.read()\n",
    "    #img = cv2.resize(img, (int(fwidth*.8), int(fheight*.8)))\n",
    "    #img = cv2.resize(img, (640, 480))\n",
    "\n",
    "    bbox, label, conf = cv.detect_common_objects(img)\n",
    "    output_image = draw_bbox(img, bbox, label, conf)\n",
    "\n",
    "    \n",
    "    cv2.putText(img, f'Number of cars: {str(label.count(\"car\"))}', (40,70), cv2.FONT_HERSHEY_DUPLEX, 0.8, (0,0,255), 1)\n",
    "\n",
    "    # Writing the frame into the file 'output.avi'\n",
    "    out.write(img)\n",
    "\n",
    "    cv2.imshow(\"preview\", output_image)\n",
    "    key = cv2.waitKey(1)\n",
    "    if key & 0xFF == ord('q'):\n",
    "        break\n",
    "\n",
    "\n",
    "# When everything done, release the video capture and video write objects\n",
    "cap.release()\n",
    "out.release()\n",
    "\n",
    "# Closes all the frames\n",
    "cv2.destroyAllWindows()"
   ]
  },
  {
   "cell_type": "code",
   "execution_count": null,
   "metadata": {},
   "outputs": [],
   "source": []
  }
 ],
 "metadata": {
  "kernelspec": {
   "display_name": "Python 3",
   "language": "python",
   "name": "python3"
  },
  "language_info": {
   "codemirror_mode": {
    "name": "ipython",
    "version": 3
   },
   "file_extension": ".py",
   "mimetype": "text/x-python",
   "name": "python",
   "nbconvert_exporter": "python",
   "pygments_lexer": "ipython3",
   "version": "3.8.5"
  }
 },
 "nbformat": 4,
 "nbformat_minor": 4
}
